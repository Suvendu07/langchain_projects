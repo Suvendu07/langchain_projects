{
 "cells": [
  {
   "cell_type": "code",
   "execution_count": 1,
   "id": "27611640",
   "metadata": {},
   "outputs": [
    {
     "name": "stderr",
     "output_type": "stream",
     "text": [
      "d:\\LangChain\\venv\\lib\\site-packages\\tqdm\\auto.py:21: TqdmWarning: IProgress not found. Please update jupyter and ipywidgets. See https://ipywidgets.readthedocs.io/en/stable/user_install.html\n",
      "  from .autonotebook import tqdm as notebook_tqdm\n"
     ]
    }
   ],
   "source": [
    "from langchain_google_genai import ChatGoogleGenerativeAI\n",
    "from langchain_core.tools import tool\n",
    "from langchain_community.tools import DuckDuckGoSearchRun\n",
    "import requests\n",
    "from dotenv import load_dotenv"
   ]
  },
  {
   "cell_type": "code",
   "execution_count": 2,
   "id": "8705f06d",
   "metadata": {},
   "outputs": [
    {
     "data": {
      "text/plain": [
       "True"
      ]
     },
     "execution_count": 2,
     "metadata": {},
     "output_type": "execute_result"
    }
   ],
   "source": [
    "load_dotenv()"
   ]
  },
  {
   "cell_type": "code",
   "execution_count": 3,
   "id": "dc503fae",
   "metadata": {},
   "outputs": [],
   "source": [
    "search_tool = DuckDuckGoSearchRun()"
   ]
  },
  {
   "cell_type": "code",
   "execution_count": 4,
   "id": "fa044091",
   "metadata": {},
   "outputs": [],
   "source": [
    "@tool\n",
    "def get_weather_data(city : str) -> str:\n",
    "    \"\"\"\n",
    "    this function fetchs the current weather data for a given city\"\"\"\n",
    "    \n",
    "    url = f\"pass the weather api={city}\"\n",
    "    \n",
    "    response = requests.get(url)\n",
    "    \n",
    "    return response.json"
   ]
  },
  {
   "cell_type": "code",
   "execution_count": 5,
   "id": "30860d12",
   "metadata": {},
   "outputs": [],
   "source": [
    "result = search_tool.invoke(\"today odisha\")"
   ]
  },
  {
   "cell_type": "code",
   "execution_count": 5,
   "id": "6178085b",
   "metadata": {},
   "outputs": [
    {
     "name": "stdout",
     "output_type": "stream",
     "text": [
      "1 day ago · Get daily Top Stories on Opinions, Crime, Education, Entertainment, Weather, Sports, Business, Trending, Viral, and LIVE Video News Coverage from leading columnists only at Odisha TV. 20 hours ago · Cyclone Montha LIVE: Storm to hit Andhra coast tonight. IMD issues red alert for Andhra, Odisha and Tamil Nadu. Track real-time updates on landfall timing, rainfall intensity, evacuation efforts, and weather warnings. Read full articles, watch videos, browse thousands of titles and more on the \" Odisha \" topic with Google News. 2 days ago · Cyclone Montha over the Bay of Bengal is set to intensify into a severe cyclonic storm by October 28 morning, likely making landfall near Kakinada. Andhra Pradesh has been put on alert while Odisha , Telangana, and Chennai are also bracing for strong winds and rainfall as the system moves north-northwestward. 17 hours ago · Cyclone Montha Live: 100 kmph Winds Hit Andhra Coast as Landfall Begins; Vehicle Curfew in Place — Track Cyclone’s Live Path and Areas Impacted Cyclone Montha Live Tracker, Weather Forecast for Tamil Nadu, Andhra Pradesh, Chennai, Hyderabad, Odisha : Cyclone ‘Montha’ is intensifying over the Bay of Bengal and is expected to hit the Andhra Pradesh coast near Kakinada on October 28 ...\n"
     ]
    }
   ],
   "source": [
    "print(result)"
   ]
  },
  {
   "cell_type": "code",
   "execution_count": 6,
   "id": "1125562a",
   "metadata": {},
   "outputs": [],
   "source": [
    "llm = ChatGoogleGenerativeAI(model = \"gemini-2.5-flash\")"
   ]
  },
  {
   "cell_type": "code",
   "execution_count": 7,
   "id": "d9a92963",
   "metadata": {},
   "outputs": [],
   "source": [
    "result = llm.invoke(\"hey i am suvendu\")"
   ]
  },
  {
   "cell_type": "code",
   "execution_count": 8,
   "id": "f81fe1fe",
   "metadata": {},
   "outputs": [
    {
     "name": "stdout",
     "output_type": "stream",
     "text": [
      "content='Hi Suvendu! Nice to meet you. How can I help you today?' additional_kwargs={} response_metadata={'prompt_feedback': {'block_reason': 0, 'safety_ratings': []}, 'finish_reason': 'STOP', 'safety_ratings': []} id='run--111130b0-aebb-4a9d-85a6-0403aa72f71d-0' usage_metadata={'input_tokens': 6, 'output_tokens': 17, 'total_tokens': 58, 'input_token_details': {'cache_read': 0}}\n"
     ]
    }
   ],
   "source": [
    "print(result)"
   ]
  },
  {
   "cell_type": "code",
   "execution_count": 9,
   "id": "723ea15b",
   "metadata": {},
   "outputs": [],
   "source": [
    "from langchain.agents import create_react_agent, AgentExecutor\n",
    "from langchain import hub"
   ]
  },
  {
   "cell_type": "code",
   "execution_count": 11,
   "id": "555d784b",
   "metadata": {},
   "outputs": [
    {
     "data": {
      "text/plain": [
       "'\\nreact means resoning + action\\n\\n“It is a predefined prompt function — instead of writing the pattern manually,\\n we just call it,\\n and it automatically applies the prompt structure.”\\n\\n '"
      ]
     },
     "execution_count": 11,
     "metadata": {},
     "output_type": "execute_result"
    }
   ],
   "source": [
    "# step:2 pull the ReAct prompt from langchain hub.\n",
    "\n",
    "prompt = hub.pull(\"hwchase17/react\")  # pull the standard ReAct agent prompt\n",
    "\n",
    "\n",
    "\"\"\"\n",
    "react means resoning + action\n",
    "\n",
    "“It is a predefined prompt function — instead of writing the pattern manually,\n",
    " we just call it,\n",
    " and it automatically applies the prompt structure.”\n",
    "\n",
    " \"\"\""
   ]
  },
  {
   "cell_type": "code",
   "execution_count": 17,
   "id": "e15e9ccc",
   "metadata": {},
   "outputs": [
    {
     "name": "stdout",
     "output_type": "stream",
     "text": [
      "input_variables=['agent_scratchpad', 'input', 'tool_names', 'tools'] input_types={} partial_variables={} metadata={'lc_hub_owner': 'hwchase17', 'lc_hub_repo': 'react', 'lc_hub_commit_hash': 'd15fe3c426f1c4b3f37c9198853e4a86e20c425ca7f4752ec0c9b0e97ca7ea4d'} template='Answer the following questions as best you can. You have access to the following tools:\\n\\n{tools}\\n\\nUse the following format:\\n\\nQuestion: the input question you must answer\\nThought: you should always think about what to do\\nAction: the action to take, should be one of [{tool_names}]\\nAction Input: the input to the action\\nObservation: the result of the action\\n... (this Thought/Action/Action Input/Observation can repeat N times)\\nThought: I now know the final answer\\nFinal Answer: the final answer to the original input question\\n\\nBegin!\\n\\nQuestion: {input}\\nThought:{agent_scratchpad}'\n"
     ]
    }
   ],
   "source": [
    "print(prompt)"
   ]
  },
  {
   "cell_type": "code",
   "execution_count": null,
   "id": "3b3a9e91",
   "metadata": {},
   "outputs": [
    {
     "data": {
      "text/plain": [
       "'it means to think what to do'"
      ]
     },
     "execution_count": 18,
     "metadata": {},
     "output_type": "execute_result"
    }
   ],
   "source": [
    "# step:3 crete react agent manually with the pulled prompt\n",
    "agent = create_react_agent(\n",
    "    llm = llm,\n",
    "    prompt = prompt,\n",
    "    tools = [search_tool, get_weather_data]\n",
    ")\n",
    "\n",
    "\"\"\"create_react_agent() is used to teach the LLM how to work automatically —\n",
    "that means:\n",
    "\n",
    "How to think (reasoning step)\n",
    "\n",
    "What to do next (decide if it needs a tool)\n",
    "\n",
    "How to do it automatically (call the tool without you telling it manually)\"\"\"\n",
    "\n",
    "\"\"\"it means to think what to do\"\"\""
   ]
  },
  {
   "cell_type": "code",
   "execution_count": null,
   "id": "292153c0",
   "metadata": {},
   "outputs": [
    {
     "data": {
      "text/plain": [
       "'examples :- Suppose we want to find the temperature of Delhi and then multiply it by 10.\\n\\nFirst, the agent reasons:\\n“To get Delhi’s temperature, I need to call an API or use a search tool.”\\n\\nThe agent executor then performs that action (fetches the temperature).\\n\\nAfter receiving the result, the agent thinks again:\\n“Now I need to multiply this temperature by 10.”\\n\\nIt sends that instruction to the executor, which carries out the calculation.\\n\\nSo, the ReAct approach involves a continuous cycle of Reason → Action → Observation → Next\\nReasoning, allowing the agent to think and act intelligently step by step.'"
      ]
     },
     "execution_count": 20,
     "metadata": {},
     "output_type": "execute_result"
    }
   ],
   "source": [
    "# step:4 wrap it agentEcecuter\n",
    "agent_executor = AgentExecutor(\n",
    "    agent = agent,\n",
    "    tools = [search_tool, get_weather_data],\n",
    "    verbose = True,\n",
    "    handle_parsing_errors = True\n",
    ")\n",
    "\n",
    "\n",
    "\"\"\"it means after thinking what to do, execute it\"\"\"\n",
    "\n",
    "\"\"\"examples :- Suppose we want to find the temperature of Delhi and then multiply it by 10.\n",
    "\n",
    "First, the agent reasons:\n",
    "“To get Delhi’s temperature, I need to call an API or use a search tool.”\n",
    "\n",
    "The agent executor then performs that action (fetches the temperature).\n",
    "\n",
    "After receiving the result, the agent thinks again:\n",
    "“Now I need to multiply this temperature by 10.”\n",
    "\n",
    "It sends that instruction to the executor, which carries out the calculation.\n",
    "\n",
    "So, the ReAct approach involves a continuous cycle of Reason → Action → Observation → Next\n",
    "Reasoning, allowing the agent to think and act intelligently step by step.\"\"\""
   ]
  },
  {
   "cell_type": "markdown",
   "id": "629ca734",
   "metadata": {},
   "source": [
    "| Step                  | Who does it         | What happens                                                                                           |\n",
    "| --------------------- | ------------------- | ------------------------------------------------------------------------------------------------------ |\n",
    "| 🧠 **Thought**        | **LLM**             | The LLM reasons: “To answer this, I need to find travel methods.”                                      |\n",
    "| 🧩 **Format (ReAct)** | **ReAct framework** | The ReAct prompt *tells the LLM* to always show its reasoning as `Thought:` and tool use as `Action:`. |\n",
    "| 🧰 **Execution**      | **Agent Executor**  | Runs the chosen tool (e.g., search) with the given input.                                              |\n",
    "| 👀 **Observation**    | **LLM + ReAct**     | The result is fed back, and the LLM continues reasoning.                                               |\n"
   ]
  },
  {
   "cell_type": "code",
   "execution_count": null,
   "id": "38b5cfa4",
   "metadata": {},
   "outputs": [
    {
     "name": "stdout",
     "output_type": "stream",
     "text": [
      "\n",
      "\n",
      "\u001b[1m> Entering new AgentExecutor chain...\u001b[0m\n",
      "\u001b[32;1m\u001b[1;3mAction: duckduckgo_search\n",
      "Action Input: how to reach goa from delhi\u001b[0m\u001b[36;1m\u001b[1;3mHow to reach Goa from Delhi without any money ... However, you can ask whether it is possible/easy/in the culture to hitch-hike on cars, trucks or ... If you want to reach Goa from Delhi , you have many options, like by train, by air or by road. ... is the most convenient way to reach Goa from Delhi ... The best way to reach Goa from Delhi is to take a flight. ... By Train: Direct trains are available that you can avail to reach Goa from Delhi . A tourist destination, Goa can be reached by air, rail or road from Delhi . ... If you have any more questions about the route from Delhi to Goa by ... How to Reach Goa from Delhi ? ... By Air: Direct flights from Delhi to Goa take approximately 2.5 hours, making it the fastest and most convenient ...\u001b[0m\u001b[32;1m\u001b[1;3mI now know the final answer\n",
      "Final Answer: Three ways to reach Goa from Delhi are by air, by train, and by road.\u001b[0m\n",
      "\n",
      "\u001b[1m> Finished chain.\u001b[0m\n",
      "{'input': '3 way to reach goa from delhi.', 'output': 'Three ways to reach Goa from Delhi are by air, by train, and by road.'}\n"
     ]
    }
   ],
   "source": [
    "# step 5 : Invoke\n",
    "response = agent_executor.invoke({\"input\": \"3 way to reach goa from delhi.\"})\n",
    "print(response)\n",
    "\n",
    "\"\"\"we use verbose = true. so that we can see that how the agent think and how\n",
    "agent executor perform \"\"\""
   ]
  },
  {
   "cell_type": "code",
   "execution_count": 22,
   "id": "a33bd9f3",
   "metadata": {},
   "outputs": [
    {
     "data": {
      "text/plain": [
       "'Three ways to reach Goa from Delhi are by air, by train, and by road.'"
      ]
     },
     "execution_count": 22,
     "metadata": {},
     "output_type": "execute_result"
    }
   ],
   "source": [
    "response['output']"
   ]
  },
  {
   "cell_type": "code",
   "execution_count": null,
   "id": "acf99249",
   "metadata": {},
   "outputs": [],
   "source": []
  }
 ],
 "metadata": {
  "kernelspec": {
   "display_name": "venv",
   "language": "python",
   "name": "python3"
  },
  "language_info": {
   "codemirror_mode": {
    "name": "ipython",
    "version": 3
   },
   "file_extension": ".py",
   "mimetype": "text/x-python",
   "name": "python",
   "nbconvert_exporter": "python",
   "pygments_lexer": "ipython3",
   "version": "3.10.3"
  }
 },
 "nbformat": 4,
 "nbformat_minor": 5
}
