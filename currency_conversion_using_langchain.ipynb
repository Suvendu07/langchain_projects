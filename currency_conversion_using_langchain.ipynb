{
 "cells": [
  {
   "cell_type": "code",
   "execution_count": 1,
   "id": "c8ba15c0",
   "metadata": {},
   "outputs": [
    {
     "name": "stderr",
     "output_type": "stream",
     "text": [
      "d:\\LangChain\\venv\\lib\\site-packages\\tqdm\\auto.py:21: TqdmWarning: IProgress not found. Please update jupyter and ipywidgets. See https://ipywidgets.readthedocs.io/en/stable/user_install.html\n",
      "  from .autonotebook import tqdm as notebook_tqdm\n"
     ]
    }
   ],
   "source": [
    "from langchain.tools import tool\n",
    "import requests\n",
    "from langchain_google_genai import ChatGoogleGenerativeAI\n",
    "from langchain_core.messages import HumanMessage\n",
    "from typing import Annotated\n",
    "from langchain_core.tools import InjectedToolArg\n",
    "from dotenv import load_dotenv"
   ]
  },
  {
   "cell_type": "code",
   "execution_count": 2,
   "id": "33a652db",
   "metadata": {},
   "outputs": [
    {
     "data": {
      "text/plain": [
       "True"
      ]
     },
     "execution_count": 2,
     "metadata": {},
     "output_type": "execute_result"
    }
   ],
   "source": [
    "load_dotenv()"
   ]
  },
  {
   "cell_type": "markdown",
   "id": "f343e0c0",
   "metadata": {},
   "source": [
    "Without Annotated[float, InjectedToolArg]:\n",
    "\n",
    "The LLM might try to “guess” a conversion rate based on its training data.\n",
    "\n",
    "That could be completely wrong, especially if the rate has changed since the model was trained.\n",
    "\n",
    "With InjectedToolArg:\n",
    "\n",
    "The tool system enforces that the value comes from a reliable source, e.g., your API call.\n",
    "\n",
    "Your function becomes deterministic: it always uses the actual rate."
   ]
  },
  {
   "cell_type": "code",
   "execution_count": 3,
   "id": "d6a0e953",
   "metadata": {},
   "outputs": [],
   "source": [
    "# tool create\n",
    "@tool\n",
    "\n",
    "def get_conversion_factor(base_currency : str, target_currency : str) -> float:\n",
    "    \"\"\"\n",
    "    This function fetches the currency coversion factorbetween a given base currency and a target currency\n",
    "    \n",
    "    \"\"\"\n",
    "    \n",
    "    url = f\"https://v6.exchangerate-api.com/v6/051cb422ab1f900f09447b8b/latest/{base_currency}\"\n",
    "    response = requests.get(url)\n",
    "    data = response.json()\n",
    "    \n",
    "    # Return only the conversion factor for the target currency\n",
    "    return data[\"conversion_rates\"][target_currency]\n",
    "\n",
    "@tool\n",
    "\n",
    "#  we use annotated tool bcz of without it the llm decide the conversion_rate.so use of this annotatted tool the user/programer decide the conversion_rate.\n",
    "# it means if we not use annotated the llm decide the conversion_rate vcalue acc. to the llm training data.\n",
    "\n",
    "def convert(base_currency_value : int, conversion_rate : Annotated[float, InjectedToolArg]) -> float:\n",
    "    \"\"\"Given a currency conversion rate this function calculated the target a given currecny value\"\"\"\n",
    "    \n",
    "    return base_currency_value * conversion_rate"
   ]
  },
  {
   "cell_type": "code",
   "execution_count": 4,
   "id": "8b7d8afc",
   "metadata": {},
   "outputs": [
    {
     "name": "stdout",
     "output_type": "stream",
     "text": [
      "get_conversion_factor\n",
      "{'base_currency': {'title': 'Base Currency', 'type': 'string'}, 'target_currency': {'title': 'Target Currency', 'type': 'string'}}\n",
      "This function fetches the currency coversion factorbetween a given base currency and a target currency\n"
     ]
    }
   ],
   "source": [
    "print(get_conversion_factor.name)\n",
    "print(get_conversion_factor.args)\n",
    "print(get_conversion_factor.description)"
   ]
  },
  {
   "cell_type": "code",
   "execution_count": 5,
   "id": "cb2e0765",
   "metadata": {},
   "outputs": [
    {
     "data": {
      "text/plain": [
       "88.2896"
      ]
     },
     "execution_count": 5,
     "metadata": {},
     "output_type": "execute_result"
    }
   ],
   "source": [
    "get_conversion_factor.invoke({'base_currency': 'USD', 'target_currency':'INR'})"
   ]
  },
  {
   "cell_type": "code",
   "execution_count": 6,
   "id": "605089b1",
   "metadata": {},
   "outputs": [
    {
     "data": {
      "text/plain": [
       "887.3109999999999"
      ]
     },
     "execution_count": 6,
     "metadata": {},
     "output_type": "execute_result"
    }
   ],
   "source": [
    "convert.invoke({'base_currency_value':10, 'conversion_rate':88.7311})"
   ]
  },
  {
   "cell_type": "code",
   "execution_count": 7,
   "id": "31135476",
   "metadata": {},
   "outputs": [],
   "source": [
    "llm = ChatGoogleGenerativeAI(model = 'gemini-2.5-pro')"
   ]
  },
  {
   "cell_type": "code",
   "execution_count": 8,
   "id": "f9fa5b9a",
   "metadata": {},
   "outputs": [],
   "source": [
    "llm_with_tool = llm.bind_tools([get_conversion_factor, convert])"
   ]
  },
  {
   "cell_type": "code",
   "execution_count": 9,
   "id": "94683b42",
   "metadata": {},
   "outputs": [],
   "source": [
    "message = [HumanMessage('what is the conversion factor between USD and INR, and based on that can you convert 10 USD to INR')]"
   ]
  },
  {
   "cell_type": "code",
   "execution_count": 10,
   "id": "3294f49d",
   "metadata": {},
   "outputs": [
    {
     "data": {
      "text/plain": [
       "[HumanMessage(content='what is the conversion factor between USD and INR, and based on that can you convert 10 USD to INR', additional_kwargs={}, response_metadata={})]"
      ]
     },
     "execution_count": 10,
     "metadata": {},
     "output_type": "execute_result"
    }
   ],
   "source": [
    "message"
   ]
  },
  {
   "cell_type": "code",
   "execution_count": 11,
   "id": "465f8150",
   "metadata": {},
   "outputs": [],
   "source": [
    "ai_message = llm_with_tool.invoke(message)"
   ]
  },
  {
   "cell_type": "code",
   "execution_count": 12,
   "id": "0f2cd9f9",
   "metadata": {},
   "outputs": [
    {
     "data": {
      "text/plain": [
       "AIMessage(content='', additional_kwargs={'function_call': {'name': 'get_conversion_factor', 'arguments': '{\"target_currency\": \"INR\", \"base_currency\": \"USD\"}'}}, response_metadata={'prompt_feedback': {'block_reason': 0, 'safety_ratings': []}, 'finish_reason': 'STOP', 'safety_ratings': []}, id='run--36039056-859a-4c72-a472-de9517462176-0', tool_calls=[{'name': 'get_conversion_factor', 'args': {'target_currency': 'INR', 'base_currency': 'USD'}, 'id': '478c6ed7-840c-466e-930b-e5aa48f6400a', 'type': 'tool_call'}], usage_metadata={'input_tokens': 148, 'output_tokens': 26, 'total_tokens': 887, 'input_token_details': {'cache_read': 0}})"
      ]
     },
     "execution_count": 12,
     "metadata": {},
     "output_type": "execute_result"
    }
   ],
   "source": [
    "ai_message"
   ]
  },
  {
   "cell_type": "code",
   "execution_count": 13,
   "id": "c85e036b",
   "metadata": {},
   "outputs": [],
   "source": [
    "message.append(ai_message)"
   ]
  },
  {
   "cell_type": "code",
   "execution_count": 14,
   "id": "ff51e7f2",
   "metadata": {},
   "outputs": [
    {
     "data": {
      "text/plain": [
       "[HumanMessage(content='what is the conversion factor between USD and INR, and based on that can you convert 10 USD to INR', additional_kwargs={}, response_metadata={}),\n",
       " AIMessage(content='', additional_kwargs={'function_call': {'name': 'get_conversion_factor', 'arguments': '{\"target_currency\": \"INR\", \"base_currency\": \"USD\"}'}}, response_metadata={'prompt_feedback': {'block_reason': 0, 'safety_ratings': []}, 'finish_reason': 'STOP', 'safety_ratings': []}, id='run--36039056-859a-4c72-a472-de9517462176-0', tool_calls=[{'name': 'get_conversion_factor', 'args': {'target_currency': 'INR', 'base_currency': 'USD'}, 'id': '478c6ed7-840c-466e-930b-e5aa48f6400a', 'type': 'tool_call'}], usage_metadata={'input_tokens': 148, 'output_tokens': 26, 'total_tokens': 887, 'input_token_details': {'cache_read': 0}})]"
      ]
     },
     "execution_count": 14,
     "metadata": {},
     "output_type": "execute_result"
    }
   ],
   "source": [
    "message"
   ]
  },
  {
   "cell_type": "code",
   "execution_count": 15,
   "id": "1c7fb573",
   "metadata": {},
   "outputs": [
    {
     "data": {
      "text/plain": [
       "[{'name': 'get_conversion_factor',\n",
       "  'args': {'target_currency': 'INR', 'base_currency': 'USD'},\n",
       "  'id': '478c6ed7-840c-466e-930b-e5aa48f6400a',\n",
       "  'type': 'tool_call'}]"
      ]
     },
     "execution_count": 15,
     "metadata": {},
     "output_type": "execute_result"
    }
   ],
   "source": [
    "ai_message.tool_calls"
   ]
  },
  {
   "cell_type": "code",
   "execution_count": 16,
   "id": "009d03a6",
   "metadata": {},
   "outputs": [
    {
     "name": "stdout",
     "output_type": "stream",
     "text": [
      "{'name': 'get_conversion_factor', 'args': {'target_currency': 'INR', 'base_currency': 'USD'}, 'id': '478c6ed7-840c-466e-930b-e5aa48f6400a', 'type': 'tool_call'}\n"
     ]
    }
   ],
   "source": [
    "import json\n",
    "\n",
    "\n",
    "for tool_call in ai_message.tool_calls:\n",
    "    print(tool_call)"
   ]
  },
  {
   "cell_type": "code",
   "execution_count": 17,
   "id": "3447eccb",
   "metadata": {},
   "outputs": [
    {
     "name": "stdout",
     "output_type": "stream",
     "text": [
      "content='88.2896' name='get_conversion_factor' tool_call_id='478c6ed7-840c-466e-930b-e5aa48f6400a'\n"
     ]
    }
   ],
   "source": [
    "# execute the 1st tool and get the value of conversion rate\n",
    "if tool_call['name'] == 'get_conversion_factor':\n",
    "    tool_message_1 = get_conversion_factor.invoke(tool_call)\n",
    "    print(tool_message_1)\n",
    "    \n",
    "    # fetch this conversion rate\n",
    "    # conversion_rate = json.loads(tool_message_1.content)['conversion_rate']\n",
    "    # print(conversion_rate)\n",
    "    \n",
    "    \n",
    "    # append this tool message to message lis"
   ]
  },
  {
   "cell_type": "code",
   "execution_count": null,
   "id": "07d6fd06",
   "metadata": {},
   "outputs": [],
   "source": []
  }
 ],
 "metadata": {
  "kernelspec": {
   "display_name": "venv",
   "language": "python",
   "name": "python3"
  },
  "language_info": {
   "codemirror_mode": {
    "name": "ipython",
    "version": 3
   },
   "file_extension": ".py",
   "mimetype": "text/x-python",
   "name": "python",
   "nbconvert_exporter": "python",
   "pygments_lexer": "ipython3",
   "version": "3.10.3"
  }
 },
 "nbformat": 4,
 "nbformat_minor": 5
}
